{
 "cells": [
  {
   "cell_type": "code",
   "execution_count": 1,
   "id": "4290af65",
   "metadata": {},
   "outputs": [],
   "source": [
    "import os\n",
    "import pickle\n",
    "import numpy as np\n",
    "from torch.utils.data import Dataset, DataLoader\n",
    "import torch\n",
    "import torch.nn as nn\n",
    "import torch.optim as optim\n",
    "from tqdm import tqdm"
   ]
  },
  {
   "cell_type": "code",
   "execution_count": 2,
   "id": "66faa3e2",
   "metadata": {},
   "outputs": [
    {
     "data": {
      "text/plain": [
       "device(type='cuda')"
      ]
     },
     "execution_count": 2,
     "metadata": {},
     "output_type": "execute_result"
    }
   ],
   "source": [
    "# Paths to data and labels\n",
    "TRAIN_DATA_PATH = r'D:\\UniGe\\2\\CV\\Babel Project\\Normalized Data\\train_ntu_sk_60_pre.npy'\n",
    "VAL_DATA_PATH   = r'D:\\UniGe\\2\\CV\\Babel Project\\Normalized Data\\val_ntu_sk_60_pre.npy'\n",
    "TEST_DATA_PATH  = r'D:\\UniGe\\2\\CV\\Babel Project\\Normalized Data\\test_ntu_sk_60_pre.npy'\n",
    "\n",
    "TRAIN_LABEL_PATH = r'D:\\UniGe\\2\\CV\\Babel Project\\BABEL\\action_recognition\\data\\release\\train_label_60.pkl'\n",
    "VAL_LABEL_PATH   = r'D:\\UniGe\\2\\CV\\Babel Project\\BABEL\\action_recognition\\data\\release\\val_label_60.pkl'\n",
    "TEST_LABEL_PATH  = r'D:\\UniGe\\2\\CV\\Babel Project\\BABEL\\action_recognition\\data\\release\\test_label_60.pkl'\n",
    "\n",
    "# Hyperparameters\n",
    "BATCH_SIZE = 64\n",
    "LR = 1e-3\n",
    "EPOCHS = 50\n",
    "DEVICE = torch.device('cuda' if torch.cuda.is_available() else 'cpu')\n",
    "DEVICE"
   ]
  },
  {
   "cell_type": "code",
   "execution_count": 4,
   "id": "9557f48c",
   "metadata": {},
   "outputs": [],
   "source": [
    "# Custom Dataset\n",
    "class PoseDataset(Dataset):\n",
    "    def __init__(self, data_path, label_path):\n",
    "        self.data = np.load(data_path)  # (N,3,T,25,1)\n",
    "        with open(label_path, 'rb') as f:\n",
    "            labels = pickle.load(f)[1][0]\n",
    "        self.labels = np.array(labels)\n",
    "        assert len(self.data) == len(self.labels)\n",
    "\n",
    "    def __len__(self):\n",
    "        return len(self.labels)\n",
    "\n",
    "    def __getitem__(self, idx):\n",
    "        x = self.data[idx]                         # (3,T,25,1)\n",
    "        x = np.squeeze(x, axis=-1)                 # (3,T,25)\n",
    "        y = self.labels[idx]\n",
    "        return torch.from_numpy(x).float(), y\n",
    "\n",
    "# LSTM Model\n",
    "class PoseLSTM(nn.Module):\n",
    "    def __init__(self, in_dim=75, hidden_dim=128, num_layers=2, num_classes=60, dropout=0.3):\n",
    "        super().__init__()\n",
    "        self.lstm = nn.LSTM(in_dim, hidden_dim, num_layers,\n",
    "                            batch_first=True, dropout=dropout, bidirectional=True)\n",
    "        self.fc   = nn.Linear(hidden_dim * 2, num_classes)\n",
    "\n",
    "    def forward(self, x):\n",
    "        # x: (N,3,T,25)\n",
    "        N, C, T, V = x.size()\n",
    "        x = x.permute(0, 2, 3, 1).contiguous()      # (N,T,V,C)\n",
    "        x = x.view(N, T, V * C)                    # (N,T,75)\n",
    "        out, (h_n, _) = self.lstm(x)\n",
    "        # h_n: (num_layers*2, N, hidden_dim)\n",
    "        h = torch.cat([h_n[-2], h_n[-1]], dim=1)    # (N, hidden_dim*2)\n",
    "        return self.fc(h)\n",
    "\n",
    "# Utility: compute accuracy\n",
    "def compute_accuracy(preds, labels):\n",
    "    return (preds.argmax(dim=1) == labels).float().mean().item()\n"
   ]
  },
  {
   "cell_type": "code",
   "execution_count": 5,
   "id": "a453ce50",
   "metadata": {},
   "outputs": [],
   "source": [
    "# Prepare DataLoaders\n",
    "dataset_train = PoseDataset(TRAIN_DATA_PATH, TRAIN_LABEL_PATH)\n",
    "dataset_val   = PoseDataset(VAL_DATA_PATH, VAL_LABEL_PATH)\n",
    "# dataset_test  = PoseDataset(TEST_DATA_PATH, TEST_LABEL_PATH)\n",
    "\n",
    "dl_train = DataLoader(dataset_train, batch_size=BATCH_SIZE, shuffle=True, num_workers=0)\n",
    "dl_val   = DataLoader(dataset_val,   batch_size=BATCH_SIZE, shuffle=False, num_workers=0)\n",
    "# dl_test  = DataLoader(dataset_test,  batch_size=BATCH_SIZE, shuffle=False, num_workers=0)\n",
    "\n",
    "# Initialize model, loss, optimizer\n",
    "model = PoseLSTM().to(DEVICE)\n",
    "criterion = nn.CrossEntropyLoss()\n",
    "optimizer = optim.Adam(model.parameters(), lr=LR)\n",
    "\n",
    "# Training loop with history\n",
    "history = {'train_loss': [], 'train_acc': [], 'val_loss': [], 'val_acc': []}\n",
    "\n"
   ]
  },
  {
   "cell_type": "code",
   "execution_count": 6,
   "id": "e006c42b",
   "metadata": {},
   "outputs": [],
   "source": [
    "def compute_topk_accuracy(preds, labels, k=5):\n",
    "    # preds: (N, num_classes)\n",
    "    # labels: (N,)\n",
    "    topk = preds.topk(k, dim=1).indices  # (N, k)\n",
    "    labels = labels.view(-1, 1).expand_as(topk)  # (N, k)\n",
    "    correct = (topk == labels).float().sum(dim=1)  # (N,)\n",
    "    return correct.mean().item()\n",
    "\n",
    "def compute_per_class_accuracy(preds, labels, num_classes=60):\n",
    "    preds = preds.argmax(dim=1)\n",
    "    correct = preds.eq(labels)\n",
    "    per_class = []\n",
    "    for c in range(num_classes):\n",
    "        mask = labels == c\n",
    "        total = mask.sum().item()\n",
    "        if total > 0:\n",
    "            acc = correct[mask].float().sum().item() / total\n",
    "            per_class.append(acc)\n",
    "    return np.mean(per_class)"
   ]
  },
  {
   "cell_type": "code",
   "execution_count": 8,
   "id": "d0bab950",
   "metadata": {},
   "outputs": [
    {
     "name": "stderr",
     "output_type": "stream",
     "text": [
      "Epoch 1/50 [Train]: 100%|██████████| 711/711 [00:10<00:00, 69.71it/s]\n",
      "Epoch 1/50 [Val]: 100%|██████████| 267/267 [00:01<00:00, 135.56it/s]\n"
     ]
    },
    {
     "name": "stdout",
     "output_type": "stream",
     "text": [
      "Epoch 1: Train loss 2.4851, acc 0.3667 | Val loss 2.5622, acc 0.3542, top5 0.6359, per_class 0.1543\n"
     ]
    },
    {
     "name": "stderr",
     "output_type": "stream",
     "text": [
      "Epoch 2/50 [Train]: 100%|██████████| 711/711 [00:09<00:00, 72.44it/s]\n",
      "Epoch 2/50 [Val]: 100%|██████████| 267/267 [00:01<00:00, 141.36it/s]\n"
     ]
    },
    {
     "name": "stdout",
     "output_type": "stream",
     "text": [
      "Epoch 2: Train loss 2.4201, acc 0.3776 | Val loss 2.4772, acc 0.3616, top5 0.6595, per_class 0.1706\n"
     ]
    },
    {
     "name": "stderr",
     "output_type": "stream",
     "text": [
      "Epoch 3/50 [Train]: 100%|██████████| 711/711 [00:09<00:00, 72.22it/s]\n",
      "Epoch 3/50 [Val]: 100%|██████████| 267/267 [00:01<00:00, 140.00it/s]\n"
     ]
    },
    {
     "name": "stdout",
     "output_type": "stream",
     "text": [
      "Epoch 3: Train loss 2.3591, acc 0.3885 | Val loss 2.4454, acc 0.3746, top5 0.6648, per_class 0.1841\n"
     ]
    },
    {
     "name": "stderr",
     "output_type": "stream",
     "text": [
      "Epoch 4/50 [Train]: 100%|██████████| 711/711 [00:09<00:00, 71.73it/s]\n",
      "Epoch 4/50 [Val]: 100%|██████████| 267/267 [00:01<00:00, 136.73it/s]\n"
     ]
    },
    {
     "name": "stdout",
     "output_type": "stream",
     "text": [
      "Epoch 4: Train loss 2.2900, acc 0.3994 | Val loss 2.3987, acc 0.3792, top5 0.6801, per_class 0.1927\n"
     ]
    },
    {
     "name": "stderr",
     "output_type": "stream",
     "text": [
      "Epoch 5/50 [Train]: 100%|██████████| 711/711 [00:10<00:00, 67.83it/s]\n",
      "Epoch 5/50 [Val]: 100%|██████████| 267/267 [00:02<00:00, 124.73it/s]\n"
     ]
    },
    {
     "name": "stdout",
     "output_type": "stream",
     "text": [
      "Epoch 5: Train loss 2.2254, acc 0.4071 | Val loss 2.4008, acc 0.3839, top5 0.6790, per_class 0.1967\n"
     ]
    },
    {
     "name": "stderr",
     "output_type": "stream",
     "text": [
      "Epoch 6/50 [Train]: 100%|██████████| 711/711 [00:10<00:00, 68.69it/s]\n",
      "Epoch 6/50 [Val]: 100%|██████████| 267/267 [00:02<00:00, 126.72it/s]\n"
     ]
    },
    {
     "name": "stdout",
     "output_type": "stream",
     "text": [
      "Epoch 6: Train loss 2.1725, acc 0.4144 | Val loss 2.3566, acc 0.3886, top5 0.6892, per_class 0.2180\n"
     ]
    },
    {
     "name": "stderr",
     "output_type": "stream",
     "text": [
      "Epoch 7/50 [Train]: 100%|██████████| 711/711 [00:10<00:00, 69.94it/s]\n",
      "Epoch 7/50 [Val]: 100%|██████████| 267/267 [00:02<00:00, 120.26it/s]\n"
     ]
    },
    {
     "name": "stdout",
     "output_type": "stream",
     "text": [
      "Epoch 7: Train loss 2.1229, acc 0.4222 | Val loss 2.3814, acc 0.3906, top5 0.6862, per_class 0.2160\n"
     ]
    },
    {
     "name": "stderr",
     "output_type": "stream",
     "text": [
      "Epoch 8/50 [Train]: 100%|██████████| 711/711 [00:10<00:00, 69.10it/s]\n",
      "Epoch 8/50 [Val]: 100%|██████████| 267/267 [00:01<00:00, 136.30it/s]\n"
     ]
    },
    {
     "name": "stdout",
     "output_type": "stream",
     "text": [
      "Epoch 8: Train loss 2.0881, acc 0.4278 | Val loss 2.3331, acc 0.3953, top5 0.6988, per_class 0.2215\n"
     ]
    },
    {
     "name": "stderr",
     "output_type": "stream",
     "text": [
      "Epoch 9/50 [Train]: 100%|██████████| 711/711 [00:09<00:00, 71.53it/s]\n",
      "Epoch 9/50 [Val]: 100%|██████████| 267/267 [00:02<00:00, 128.21it/s]\n"
     ]
    },
    {
     "name": "stdout",
     "output_type": "stream",
     "text": [
      "Epoch 9: Train loss 2.0292, acc 0.4363 | Val loss 2.3220, acc 0.3964, top5 0.7008, per_class 0.2234\n"
     ]
    },
    {
     "name": "stderr",
     "output_type": "stream",
     "text": [
      "Epoch 10/50 [Train]: 100%|██████████| 711/711 [00:10<00:00, 68.95it/s]\n",
      "Epoch 10/50 [Val]: 100%|██████████| 267/267 [00:02<00:00, 123.04it/s]\n"
     ]
    },
    {
     "name": "stdout",
     "output_type": "stream",
     "text": [
      "Epoch 10: Train loss 1.9840, acc 0.4408 | Val loss 2.3360, acc 0.3954, top5 0.6962, per_class 0.2338\n"
     ]
    },
    {
     "name": "stderr",
     "output_type": "stream",
     "text": [
      "Epoch 11/50 [Train]: 100%|██████████| 711/711 [00:10<00:00, 68.04it/s]\n",
      "Epoch 11/50 [Val]: 100%|██████████| 267/267 [00:02<00:00, 129.19it/s]\n"
     ]
    },
    {
     "name": "stdout",
     "output_type": "stream",
     "text": [
      "Epoch 11: Train loss 1.9461, acc 0.4452 | Val loss 2.3483, acc 0.3951, top5 0.6975, per_class 0.2260\n"
     ]
    },
    {
     "name": "stderr",
     "output_type": "stream",
     "text": [
      "Epoch 12/50 [Train]: 100%|██████████| 711/711 [00:10<00:00, 68.27it/s]\n",
      "Epoch 12/50 [Val]: 100%|██████████| 267/267 [00:02<00:00, 124.05it/s]\n"
     ]
    },
    {
     "name": "stdout",
     "output_type": "stream",
     "text": [
      "Epoch 12: Train loss 1.9106, acc 0.4517 | Val loss 2.3520, acc 0.3964, top5 0.6951, per_class 0.2439\n"
     ]
    },
    {
     "name": "stderr",
     "output_type": "stream",
     "text": [
      "Epoch 13/50 [Train]: 100%|██████████| 711/711 [00:10<00:00, 69.38it/s]\n",
      "Epoch 13/50 [Val]: 100%|██████████| 267/267 [00:02<00:00, 133.32it/s]\n"
     ]
    },
    {
     "name": "stdout",
     "output_type": "stream",
     "text": [
      "Epoch 13: Train loss 1.8603, acc 0.4569 | Val loss 2.3407, acc 0.3997, top5 0.7019, per_class 0.2426\n"
     ]
    },
    {
     "name": "stderr",
     "output_type": "stream",
     "text": [
      "Epoch 14/50 [Train]: 100%|██████████| 711/711 [00:10<00:00, 70.47it/s]\n",
      "Epoch 14/50 [Val]: 100%|██████████| 267/267 [00:01<00:00, 135.51it/s]\n"
     ]
    },
    {
     "name": "stdout",
     "output_type": "stream",
     "text": [
      "Epoch 14: Train loss 1.8210, acc 0.4638 | Val loss 2.3468, acc 0.3961, top5 0.7033, per_class 0.2308\n"
     ]
    },
    {
     "name": "stderr",
     "output_type": "stream",
     "text": [
      "Epoch 15/50 [Train]: 100%|██████████| 711/711 [00:10<00:00, 69.36it/s]\n",
      "Epoch 15/50 [Val]: 100%|██████████| 267/267 [00:01<00:00, 134.11it/s]\n"
     ]
    },
    {
     "name": "stdout",
     "output_type": "stream",
     "text": [
      "Epoch 15: Train loss 1.7984, acc 0.4661 | Val loss 2.3461, acc 0.4001, top5 0.7065, per_class 0.2458\n"
     ]
    },
    {
     "name": "stderr",
     "output_type": "stream",
     "text": [
      "Epoch 16/50 [Train]: 100%|██████████| 711/711 [00:10<00:00, 70.50it/s]\n",
      "Epoch 16/50 [Val]: 100%|██████████| 267/267 [00:02<00:00, 132.73it/s]\n"
     ]
    },
    {
     "name": "stdout",
     "output_type": "stream",
     "text": [
      "Epoch 16: Train loss 1.7521, acc 0.4742 | Val loss 2.3562, acc 0.3985, top5 0.7044, per_class 0.2464\n"
     ]
    },
    {
     "name": "stderr",
     "output_type": "stream",
     "text": [
      "Epoch 17/50 [Train]: 100%|██████████| 711/711 [00:10<00:00, 70.06it/s]\n",
      "Epoch 17/50 [Val]: 100%|██████████| 267/267 [00:02<00:00, 129.66it/s]\n"
     ]
    },
    {
     "name": "stdout",
     "output_type": "stream",
     "text": [
      "Epoch 17: Train loss 1.7170, acc 0.4804 | Val loss 2.3726, acc 0.3972, top5 0.7073, per_class 0.2246\n"
     ]
    },
    {
     "name": "stderr",
     "output_type": "stream",
     "text": [
      "Epoch 18/50 [Train]: 100%|██████████| 711/711 [00:10<00:00, 69.11it/s]\n",
      "Epoch 18/50 [Val]: 100%|██████████| 267/267 [00:02<00:00, 132.38it/s]\n"
     ]
    },
    {
     "name": "stdout",
     "output_type": "stream",
     "text": [
      "Epoch 18: Train loss 1.6903, acc 0.4846 | Val loss 2.3930, acc 0.3973, top5 0.7014, per_class 0.2338\n"
     ]
    },
    {
     "name": "stderr",
     "output_type": "stream",
     "text": [
      "Epoch 19/50 [Train]: 100%|██████████| 711/711 [00:10<00:00, 68.70it/s]\n",
      "Epoch 19/50 [Val]: 100%|██████████| 267/267 [00:02<00:00, 129.33it/s]\n"
     ]
    },
    {
     "name": "stdout",
     "output_type": "stream",
     "text": [
      "Epoch 19: Train loss 1.6618, acc 0.4860 | Val loss 2.3821, acc 0.3994, top5 0.7049, per_class 0.2389\n"
     ]
    },
    {
     "name": "stderr",
     "output_type": "stream",
     "text": [
      "Epoch 20/50 [Train]: 100%|██████████| 711/711 [00:10<00:00, 69.91it/s]\n",
      "Epoch 20/50 [Val]: 100%|██████████| 267/267 [00:01<00:00, 137.00it/s]\n"
     ]
    },
    {
     "name": "stdout",
     "output_type": "stream",
     "text": [
      "Epoch 20: Train loss 1.6535, acc 0.4901 | Val loss 2.4064, acc 0.3966, top5 0.7018, per_class 0.2446\n"
     ]
    },
    {
     "name": "stderr",
     "output_type": "stream",
     "text": [
      "Epoch 21/50 [Train]: 100%|██████████| 711/711 [00:10<00:00, 70.86it/s]\n",
      "Epoch 21/50 [Val]: 100%|██████████| 267/267 [00:01<00:00, 136.48it/s]\n"
     ]
    },
    {
     "name": "stdout",
     "output_type": "stream",
     "text": [
      "Epoch 21: Train loss 1.6056, acc 0.4959 | Val loss 2.4322, acc 0.3968, top5 0.7021, per_class 0.2435\n"
     ]
    },
    {
     "name": "stderr",
     "output_type": "stream",
     "text": [
      "Epoch 22/50 [Train]: 100%|██████████| 711/711 [00:10<00:00, 70.23it/s]\n",
      "Epoch 22/50 [Val]: 100%|██████████| 267/267 [00:01<00:00, 137.02it/s]\n"
     ]
    },
    {
     "name": "stdout",
     "output_type": "stream",
     "text": [
      "Epoch 22: Train loss 1.5700, acc 0.5005 | Val loss 2.4030, acc 0.4022, top5 0.7064, per_class 0.2449\n"
     ]
    },
    {
     "name": "stderr",
     "output_type": "stream",
     "text": [
      "Epoch 23/50 [Train]: 100%|██████████| 711/711 [00:10<00:00, 70.46it/s]\n",
      "Epoch 23/50 [Val]: 100%|██████████| 267/267 [00:01<00:00, 137.20it/s]\n"
     ]
    },
    {
     "name": "stdout",
     "output_type": "stream",
     "text": [
      "Epoch 23: Train loss 1.5415, acc 0.5048 | Val loss 2.4243, acc 0.3974, top5 0.7048, per_class 0.2418\n"
     ]
    },
    {
     "name": "stderr",
     "output_type": "stream",
     "text": [
      "Epoch 24/50 [Train]: 100%|██████████| 711/711 [00:10<00:00, 70.69it/s]\n",
      "Epoch 24/50 [Val]: 100%|██████████| 267/267 [00:02<00:00, 132.03it/s]\n"
     ]
    },
    {
     "name": "stdout",
     "output_type": "stream",
     "text": [
      "Epoch 24: Train loss 1.5184, acc 0.5092 | Val loss 2.4561, acc 0.3946, top5 0.7048, per_class 0.2458\n"
     ]
    },
    {
     "name": "stderr",
     "output_type": "stream",
     "text": [
      "Epoch 25/50 [Train]: 100%|██████████| 711/711 [00:10<00:00, 70.67it/s]\n",
      "Epoch 25/50 [Val]: 100%|██████████| 267/267 [00:01<00:00, 135.95it/s]\n"
     ]
    },
    {
     "name": "stdout",
     "output_type": "stream",
     "text": [
      "Epoch 25: Train loss 1.4992, acc 0.5126 | Val loss 2.4587, acc 0.3985, top5 0.7025, per_class 0.2466\n"
     ]
    },
    {
     "name": "stderr",
     "output_type": "stream",
     "text": [
      "Epoch 26/50 [Train]: 100%|██████████| 711/711 [00:10<00:00, 70.01it/s]\n",
      "Epoch 26/50 [Val]: 100%|██████████| 267/267 [00:02<00:00, 128.56it/s]\n"
     ]
    },
    {
     "name": "stdout",
     "output_type": "stream",
     "text": [
      "Epoch 26: Train loss 1.4782, acc 0.5159 | Val loss 2.4796, acc 0.4003, top5 0.7043, per_class 0.2424\n"
     ]
    },
    {
     "name": "stderr",
     "output_type": "stream",
     "text": [
      "Epoch 27/50 [Train]: 100%|██████████| 711/711 [00:10<00:00, 68.43it/s]\n",
      "Epoch 27/50 [Val]: 100%|██████████| 267/267 [00:02<00:00, 129.03it/s]\n"
     ]
    },
    {
     "name": "stdout",
     "output_type": "stream",
     "text": [
      "Epoch 27: Train loss 1.4459, acc 0.5194 | Val loss 2.4938, acc 0.3990, top5 0.7037, per_class 0.2449\n"
     ]
    },
    {
     "name": "stderr",
     "output_type": "stream",
     "text": [
      "Epoch 28/50 [Train]: 100%|██████████| 711/711 [00:10<00:00, 69.39it/s]\n",
      "Epoch 28/50 [Val]: 100%|██████████| 267/267 [00:02<00:00, 130.76it/s]\n"
     ]
    },
    {
     "name": "stdout",
     "output_type": "stream",
     "text": [
      "Epoch 28: Train loss 1.4326, acc 0.5220 | Val loss 2.4926, acc 0.3918, top5 0.7042, per_class 0.2399\n"
     ]
    },
    {
     "name": "stderr",
     "output_type": "stream",
     "text": [
      "Epoch 29/50 [Train]: 100%|██████████| 711/711 [00:10<00:00, 68.45it/s]\n",
      "Epoch 29/50 [Val]: 100%|██████████| 267/267 [00:02<00:00, 129.26it/s]\n"
     ]
    },
    {
     "name": "stdout",
     "output_type": "stream",
     "text": [
      "Epoch 29: Train loss 1.4067, acc 0.5268 | Val loss 2.5480, acc 0.3973, top5 0.6994, per_class 0.2356\n"
     ]
    },
    {
     "name": "stderr",
     "output_type": "stream",
     "text": [
      "Epoch 30/50 [Train]: 100%|██████████| 711/711 [00:10<00:00, 67.25it/s]\n",
      "Epoch 30/50 [Val]: 100%|██████████| 267/267 [00:02<00:00, 123.88it/s]\n"
     ]
    },
    {
     "name": "stdout",
     "output_type": "stream",
     "text": [
      "Epoch 30: Train loss 1.3892, acc 0.5281 | Val loss 2.5590, acc 0.3968, top5 0.6980, per_class 0.2418\n"
     ]
    },
    {
     "name": "stderr",
     "output_type": "stream",
     "text": [
      "Epoch 31/50 [Train]: 100%|██████████| 711/711 [00:10<00:00, 67.29it/s]\n",
      "Epoch 31/50 [Val]: 100%|██████████| 267/267 [00:02<00:00, 125.40it/s]\n"
     ]
    },
    {
     "name": "stdout",
     "output_type": "stream",
     "text": [
      "Epoch 31: Train loss 1.3766, acc 0.5327 | Val loss 2.6266, acc 0.3837, top5 0.6829, per_class 0.2239\n"
     ]
    },
    {
     "name": "stderr",
     "output_type": "stream",
     "text": [
      "Epoch 32/50 [Train]: 100%|██████████| 711/711 [00:10<00:00, 68.24it/s]\n",
      "Epoch 32/50 [Val]: 100%|██████████| 267/267 [00:01<00:00, 135.87it/s]\n"
     ]
    },
    {
     "name": "stdout",
     "output_type": "stream",
     "text": [
      "Epoch 32: Train loss 1.3672, acc 0.5350 | Val loss 2.5723, acc 0.4001, top5 0.7035, per_class 0.2456\n"
     ]
    },
    {
     "name": "stderr",
     "output_type": "stream",
     "text": [
      "Epoch 33/50 [Train]: 100%|██████████| 711/711 [00:10<00:00, 70.20it/s]\n",
      "Epoch 33/50 [Val]: 100%|██████████| 267/267 [00:01<00:00, 135.56it/s]\n"
     ]
    },
    {
     "name": "stdout",
     "output_type": "stream",
     "text": [
      "Epoch 33: Train loss 1.3257, acc 0.5401 | Val loss 2.6011, acc 0.3870, top5 0.6974, per_class 0.2470\n"
     ]
    },
    {
     "name": "stderr",
     "output_type": "stream",
     "text": [
      "Epoch 34/50 [Train]: 100%|██████████| 711/711 [00:10<00:00, 69.28it/s]\n",
      "Epoch 34/50 [Val]: 100%|██████████| 267/267 [00:02<00:00, 126.77it/s]\n"
     ]
    },
    {
     "name": "stdout",
     "output_type": "stream",
     "text": [
      "Epoch 34: Train loss 1.3913, acc 0.5323 | Val loss 2.6451, acc 0.3833, top5 0.6798, per_class 0.2201\n"
     ]
    },
    {
     "name": "stderr",
     "output_type": "stream",
     "text": [
      "Epoch 35/50 [Train]: 100%|██████████| 711/711 [00:10<00:00, 68.47it/s]\n",
      "Epoch 35/50 [Val]: 100%|██████████| 267/267 [00:02<00:00, 128.09it/s]\n"
     ]
    },
    {
     "name": "stdout",
     "output_type": "stream",
     "text": [
      "Epoch 35: Train loss 1.3840, acc 0.5312 | Val loss 2.5923, acc 0.3929, top5 0.6992, per_class 0.2382\n"
     ]
    },
    {
     "name": "stderr",
     "output_type": "stream",
     "text": [
      "Epoch 36/50 [Train]: 100%|██████████| 711/711 [00:10<00:00, 68.10it/s]\n",
      "Epoch 36/50 [Val]: 100%|██████████| 267/267 [00:02<00:00, 126.97it/s]\n"
     ]
    },
    {
     "name": "stdout",
     "output_type": "stream",
     "text": [
      "Epoch 36: Train loss 1.2898, acc 0.5477 | Val loss 2.6192, acc 0.3966, top5 0.7005, per_class 0.2369\n"
     ]
    },
    {
     "name": "stderr",
     "output_type": "stream",
     "text": [
      "Epoch 37/50 [Train]: 100%|██████████| 711/711 [00:10<00:00, 68.31it/s]\n",
      "Epoch 37/50 [Val]: 100%|██████████| 267/267 [00:02<00:00, 132.37it/s]\n"
     ]
    },
    {
     "name": "stdout",
     "output_type": "stream",
     "text": [
      "Epoch 37: Train loss 1.2589, acc 0.5527 | Val loss 2.6397, acc 0.3941, top5 0.7001, per_class 0.2399\n"
     ]
    },
    {
     "name": "stderr",
     "output_type": "stream",
     "text": [
      "Epoch 38/50 [Train]: 100%|██████████| 711/711 [00:10<00:00, 69.39it/s]\n",
      "Epoch 38/50 [Val]: 100%|██████████| 267/267 [00:02<00:00, 129.20it/s]\n"
     ]
    },
    {
     "name": "stdout",
     "output_type": "stream",
     "text": [
      "Epoch 38: Train loss 1.2484, acc 0.5542 | Val loss 2.6736, acc 0.3916, top5 0.6967, per_class 0.2372\n"
     ]
    },
    {
     "name": "stderr",
     "output_type": "stream",
     "text": [
      "Epoch 39/50 [Train]: 100%|██████████| 711/711 [00:10<00:00, 68.36it/s]\n",
      "Epoch 39/50 [Val]: 100%|██████████| 267/267 [00:02<00:00, 133.32it/s]\n"
     ]
    },
    {
     "name": "stdout",
     "output_type": "stream",
     "text": [
      "Epoch 39: Train loss 1.2332, acc 0.5570 | Val loss 2.7114, acc 0.3905, top5 0.6964, per_class 0.2401\n"
     ]
    },
    {
     "name": "stderr",
     "output_type": "stream",
     "text": [
      "Epoch 40/50 [Train]: 100%|██████████| 711/711 [00:10<00:00, 70.47it/s]\n",
      "Epoch 40/50 [Val]: 100%|██████████| 267/267 [00:01<00:00, 136.88it/s]\n"
     ]
    },
    {
     "name": "stdout",
     "output_type": "stream",
     "text": [
      "Epoch 40: Train loss 1.2367, acc 0.5566 | Val loss 2.7101, acc 0.3837, top5 0.6963, per_class 0.2392\n"
     ]
    },
    {
     "name": "stderr",
     "output_type": "stream",
     "text": [
      "Epoch 41/50 [Train]: 100%|██████████| 711/711 [00:10<00:00, 70.01it/s]\n",
      "Epoch 41/50 [Val]: 100%|██████████| 267/267 [00:01<00:00, 134.62it/s]\n"
     ]
    },
    {
     "name": "stdout",
     "output_type": "stream",
     "text": [
      "Epoch 41: Train loss 1.2206, acc 0.5579 | Val loss 2.7282, acc 0.3895, top5 0.6961, per_class 0.2388\n"
     ]
    },
    {
     "name": "stderr",
     "output_type": "stream",
     "text": [
      "Epoch 42/50 [Train]: 100%|██████████| 711/711 [00:10<00:00, 69.95it/s]\n",
      "Epoch 42/50 [Val]: 100%|██████████| 267/267 [00:02<00:00, 131.53it/s]\n"
     ]
    },
    {
     "name": "stdout",
     "output_type": "stream",
     "text": [
      "Epoch 42: Train loss 1.2025, acc 0.5606 | Val loss 2.7393, acc 0.3851, top5 0.6937, per_class 0.2428\n"
     ]
    },
    {
     "name": "stderr",
     "output_type": "stream",
     "text": [
      "Epoch 43/50 [Train]: 100%|██████████| 711/711 [00:10<00:00, 70.20it/s]\n",
      "Epoch 43/50 [Val]: 100%|██████████| 267/267 [00:01<00:00, 137.29it/s]\n"
     ]
    },
    {
     "name": "stdout",
     "output_type": "stream",
     "text": [
      "Epoch 43: Train loss 1.2082, acc 0.5618 | Val loss 2.7369, acc 0.3853, top5 0.6913, per_class 0.2379\n"
     ]
    },
    {
     "name": "stderr",
     "output_type": "stream",
     "text": [
      "Epoch 44/50 [Train]: 100%|██████████| 711/711 [00:10<00:00, 69.72it/s]\n",
      "Epoch 44/50 [Val]: 100%|██████████| 267/267 [00:01<00:00, 133.76it/s]\n"
     ]
    },
    {
     "name": "stdout",
     "output_type": "stream",
     "text": [
      "Epoch 44: Train loss 1.1849, acc 0.5656 | Val loss 2.7488, acc 0.3934, top5 0.6964, per_class 0.2487\n"
     ]
    },
    {
     "name": "stderr",
     "output_type": "stream",
     "text": [
      "Epoch 45/50 [Train]: 100%|██████████| 711/711 [00:10<00:00, 69.49it/s]\n",
      "Epoch 45/50 [Val]: 100%|██████████| 267/267 [00:01<00:00, 135.40it/s]\n"
     ]
    },
    {
     "name": "stdout",
     "output_type": "stream",
     "text": [
      "Epoch 45: Train loss 1.1674, acc 0.5694 | Val loss 2.7905, acc 0.3898, top5 0.6937, per_class 0.2374\n"
     ]
    },
    {
     "name": "stderr",
     "output_type": "stream",
     "text": [
      "Epoch 46/50 [Train]: 100%|██████████| 711/711 [00:10<00:00, 70.25it/s]\n",
      "Epoch 46/50 [Val]: 100%|██████████| 267/267 [00:02<00:00, 123.92it/s]\n"
     ]
    },
    {
     "name": "stdout",
     "output_type": "stream",
     "text": [
      "Epoch 46: Train loss 1.1786, acc 0.5672 | Val loss 2.7643, acc 0.3934, top5 0.6957, per_class 0.2404\n"
     ]
    },
    {
     "name": "stderr",
     "output_type": "stream",
     "text": [
      "Epoch 47/50 [Train]: 100%|██████████| 711/711 [00:10<00:00, 69.13it/s]\n",
      "Epoch 47/50 [Val]: 100%|██████████| 267/267 [00:01<00:00, 135.64it/s]\n"
     ]
    },
    {
     "name": "stdout",
     "output_type": "stream",
     "text": [
      "Epoch 47: Train loss 1.1501, acc 0.5698 | Val loss 2.8000, acc 0.3875, top5 0.6968, per_class 0.2353\n"
     ]
    },
    {
     "name": "stderr",
     "output_type": "stream",
     "text": [
      "Epoch 48/50 [Train]: 100%|██████████| 711/711 [00:10<00:00, 69.06it/s]\n",
      "Epoch 48/50 [Val]: 100%|██████████| 267/267 [00:02<00:00, 129.00it/s]\n"
     ]
    },
    {
     "name": "stdout",
     "output_type": "stream",
     "text": [
      "Epoch 48: Train loss 1.1378, acc 0.5721 | Val loss 2.8156, acc 0.3866, top5 0.6957, per_class 0.2427\n"
     ]
    },
    {
     "name": "stderr",
     "output_type": "stream",
     "text": [
      "Epoch 49/50 [Train]: 100%|██████████| 711/711 [00:10<00:00, 68.85it/s]\n",
      "Epoch 49/50 [Val]: 100%|██████████| 267/267 [00:02<00:00, 131.76it/s]\n"
     ]
    },
    {
     "name": "stdout",
     "output_type": "stream",
     "text": [
      "Epoch 49: Train loss 1.1292, acc 0.5739 | Val loss 2.8274, acc 0.3857, top5 0.6879, per_class 0.2417\n"
     ]
    },
    {
     "name": "stderr",
     "output_type": "stream",
     "text": [
      "Epoch 50/50 [Train]: 100%|██████████| 711/711 [00:10<00:00, 70.10it/s]\n",
      "Epoch 50/50 [Val]: 100%|██████████| 267/267 [00:01<00:00, 136.54it/s]"
     ]
    },
    {
     "name": "stdout",
     "output_type": "stream",
     "text": [
      "Epoch 50: Train loss 1.1177, acc 0.5746 | Val loss 2.8574, acc 0.3801, top5 0.6872, per_class 0.2392\n"
     ]
    },
    {
     "name": "stderr",
     "output_type": "stream",
     "text": [
      "\n"
     ]
    }
   ],
   "source": [
    "for epoch in range(1, EPOCHS + 1):\n",
    "    # Training\n",
    "    model.train()\n",
    "    running_loss = 0.0\n",
    "    running_acc  = 0.0\n",
    "    for x_batch, y_batch in tqdm(dl_train, desc=f\"Epoch {epoch}/{EPOCHS} [Train]\"):\n",
    "        x_batch = x_batch.to(DEVICE)\n",
    "        y_batch = y_batch.to(DEVICE).long()\n",
    "        optimizer.zero_grad()\n",
    "        outputs = model(x_batch)\n",
    "        loss = criterion(outputs, y_batch)\n",
    "        loss.backward()\n",
    "        optimizer.step()\n",
    "\n",
    "        running_loss += loss.item() * x_batch.size(0)\n",
    "        running_acc  += compute_accuracy(outputs, y_batch) * x_batch.size(0)\n",
    "\n",
    "    epoch_loss = running_loss / len(dataset_train)\n",
    "    epoch_acc  = running_acc  / len(dataset_train)\n",
    "    history['train_loss'].append(epoch_loss)\n",
    "    history['train_acc'].append(epoch_acc)\n",
    "\n",
    "    # Validation\n",
    "    model.eval()\n",
    "    val_loss = 0.0\n",
    "    val_acc  = 0.0\n",
    "    val_top5 = 0.0\n",
    "    all_preds = []\n",
    "    all_labels = []\n",
    "    with torch.no_grad():\n",
    "        for x_batch, y_batch in tqdm(dl_val, desc=f\"Epoch {epoch}/{EPOCHS} [Val]\"):\n",
    "            x_batch = x_batch.to(DEVICE)\n",
    "            y_batch = y_batch.to(DEVICE).long()\n",
    "            outputs = model(x_batch)\n",
    "            loss = criterion(outputs, y_batch)\n",
    "            val_loss += loss.item() * x_batch.size(0)\n",
    "            val_acc  += compute_accuracy(outputs, y_batch) * x_batch.size(0)\n",
    "            val_top5 += compute_topk_accuracy(outputs, y_batch, k=5) * x_batch.size(0)\n",
    "            all_preds.append(outputs.cpu())\n",
    "            all_labels.append(y_batch.cpu())\n",
    "    all_preds = torch.cat(all_preds)\n",
    "    all_labels = torch.cat(all_labels)\n",
    "    per_class_acc = compute_per_class_accuracy(all_preds, all_labels, num_classes=60)\n",
    "\n",
    "    history['val_loss'].append(val_loss / len(dataset_val))\n",
    "    history['val_acc'].append(val_acc   / len(dataset_val))\n",
    "    history.setdefault('val_top5', []).append(val_top5 / len(dataset_val))\n",
    "    history.setdefault('val_per_class_acc', []).append(per_class_acc)\n",
    "\n",
    "    print(f\"Epoch {epoch}: Train loss {epoch_loss:.4f}, acc {epoch_acc:.4f} | \"\n",
    "        f\"Val loss {history['val_loss'][-1]:.4f}, acc {history['val_acc'][-1]:.4f}, \"\n",
    "        f\"top5 {history['val_top5'][-1]:.4f}, per_class {history['val_per_class_acc'][-1]:.4f}\")"
   ]
  },
  {
   "cell_type": "code",
   "execution_count": 9,
   "id": "c8bb2eb3",
   "metadata": {},
   "outputs": [],
   "source": [
    "os.makedirs('checkpoints', exist_ok=True)\n",
    "torch.save(model.state_dict(), 'checkpoints/pose_lstm.pth')\n",
    "with open('checkpoints/history.pkl', 'wb') as f:\n",
    "    pickle.dump(history, f)"
   ]
  },
  {
   "cell_type": "code",
   "execution_count": 10,
   "id": "7c2456fa",
   "metadata": {},
   "outputs": [
    {
     "name": "stdout",
     "output_type": "stream",
     "text": [
      "Final Evaluation Metrics (LSTM):\n",
      "Top-1 Accuracy: 38.009%\n",
      "Top-5 Accuracy: 68.717%\n",
      "Per-class Accuracy: 23.922%\n",
      "Mean Loss: 2.8574\n"
     ]
    }
   ],
   "source": [
    "print(\"Final Evaluation Metrics (LSTM):\")\n",
    "print(f\"Top-1 Accuracy: {history['val_acc'][-1]*100:.3f}%\")\n",
    "print(f\"Top-5 Accuracy: {history['val_top5'][-1]*100:.3f}%\")\n",
    "print(f\"Per-class Accuracy: {history['val_per_class_acc'][-1]*100:.3f}%\")\n",
    "print(f\"Mean Loss: {history['val_loss'][-1]:.4f}\")"
   ]
  }
 ],
 "metadata": {
  "kernelspec": {
   "display_name": "Python 3",
   "language": "python",
   "name": "python3"
  },
  "language_info": {
   "codemirror_mode": {
    "name": "ipython",
    "version": 3
   },
   "file_extension": ".py",
   "mimetype": "text/x-python",
   "name": "python",
   "nbconvert_exporter": "python",
   "pygments_lexer": "ipython3",
   "version": "3.11.3"
  }
 },
 "nbformat": 4,
 "nbformat_minor": 5
}
