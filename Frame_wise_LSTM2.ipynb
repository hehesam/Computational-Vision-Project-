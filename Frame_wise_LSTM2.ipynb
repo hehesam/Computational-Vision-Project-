{
 "cells": [
  {
   "cell_type": "code",
   "execution_count": 1,
   "id": "8b5496f9",
   "metadata": {},
   "outputs": [],
   "source": [
    "import os\n",
    "import pickle\n",
    "import numpy as np\n",
    "import torch\n",
    "import torch.nn as nn\n",
    "import torch.optim as optim\n",
    "from torch.utils.data import Dataset, DataLoader, WeightedRandomSampler\n",
    "from tqdm import tqdm\n",
    "import matplotlib.pyplot as plt"
   ]
  },
  {
   "cell_type": "code",
   "execution_count": 2,
   "id": "755fca05",
   "metadata": {},
   "outputs": [],
   "source": [
    "# Paths to data and labels\n",
    "TRAIN_DATA_PATH = r'D:\\UniGe\\2\\CV\\Babel Project\\Normalized Data\\train_ntu_sk_60_pre.npy'\n",
    "VAL_DATA_PATH   = r'D:\\UniGe\\2\\CV\\Babel Project\\Normalized Data\\val_ntu_sk_60_pre.npy'\n",
    "# Use validation for final evaluation since test labels are unavailable\n",
    "\n",
    "TRAIN_LABEL_PATH = r'D:\\UniGe\\2\\CV\\Babel Project\\BABEL\\action_recognition\\data\\release\\train_label_60.pkl'\n",
    "VAL_LABEL_PATH   = r'D:\\UniGe\\2\\CV\\Babel Project\\BABEL\\action_recognition\\data\\release\\val_label_60.pkl'\n",
    "\n",
    "# Hyperparameters\n",
    "BATCH_SIZE    = 64\n",
    "LR            = 1e-3\n",
    "WEIGHT_DECAY  = 1e-4\n",
    "EPOCHS        = 50\n",
    "EARLY_STOP    = 10\n",
    "DEVICE        = torch.device('cuda' if torch.cuda.is_available() else 'cpu')"
   ]
  },
  {
   "cell_type": "code",
   "execution_count": 4,
   "id": "b876efe1",
   "metadata": {},
   "outputs": [],
   "source": [
    "# Dataset class\n",
    "class PoseDataset(Dataset):\n",
    "    def __init__(self, data_path, label_path):\n",
    "        self.data = np.load(data_path)\n",
    "        with open(label_path, 'rb') as f:\n",
    "            labels = pickle.load(f)[1][0]\n",
    "        self.labels = np.array(labels, dtype=int)\n",
    "        assert len(self.data) == len(self.labels)\n",
    "\n",
    "    def __len__(self):\n",
    "        return len(self.labels)\n",
    "\n",
    "    def __getitem__(self, idx):\n",
    "        x = np.squeeze(self.data[idx], axis=-1)  # (3,T,25)\n",
    "        y = self.labels[idx]\n",
    "        return torch.from_numpy(x).float(), y\n",
    "\n",
    "# Model definition\n",
    "class PoseLSTM(nn.Module):\n",
    "    def __init__(self, in_dim=75, hidden_dim=128, num_layers=2, num_classes=60, dropout=0.5):\n",
    "        super().__init__()\n",
    "        self.lstm = nn.LSTM(in_dim, hidden_dim, num_layers,\n",
    "                            batch_first=True, dropout=dropout, bidirectional=True)\n",
    "        self.dropout_fc = nn.Dropout(p=dropout)\n",
    "        self.fc = nn.Linear(hidden_dim * 2, num_classes)\n",
    "\n",
    "    def forward(self, x):\n",
    "        N, C, T, V = x.size()\n",
    "        x = x.permute(0, 2, 3, 1).reshape(N, T, C * V)  # (N,T,75)\n",
    "        _, (h_n, _) = self.lstm(x)\n",
    "        h = torch.cat([h_n[-2], h_n[-1]], dim=1)        # (N, hidden*2)\n",
    "        h = self.dropout_fc(h)\n",
    "        return self.fc(h)\n"
   ]
  },
  {
   "cell_type": "code",
   "execution_count": 5,
   "id": "69e7f3fb",
   "metadata": {},
   "outputs": [
    {
     "name": "stderr",
     "output_type": "stream",
     "text": [
      "c:\\Users\\moheb\\AppData\\Local\\Programs\\Python\\Python311\\Lib\\site-packages\\torch\\optim\\lr_scheduler.py:60: UserWarning: The verbose parameter is deprecated. Please use get_last_lr() to access the learning rate.\n",
      "  warnings.warn(\n"
     ]
    }
   ],
   "source": [
    "# Load datasets\n",
    "train_ds = PoseDataset(TRAIN_DATA_PATH, TRAIN_LABEL_PATH)\n",
    "val_ds   = PoseDataset(VAL_DATA_PATH,   VAL_LABEL_PATH)\n",
    "\n",
    "# Create WeightedRandomSampler for class-balanced sampling\n",
    "class_counts = np.bincount(train_ds.labels)\n",
    "class_weights = 1.0 / class_counts\n",
    "sample_weights = class_weights[train_ds.labels]\n",
    "sampler = WeightedRandomSampler(sample_weights, num_samples=len(sample_weights), replacement=True)\n",
    "\n",
    "# DataLoaders\n",
    "dl_train = DataLoader(train_ds, batch_size=BATCH_SIZE, sampler=sampler, num_workers=0)\n",
    "dl_val   = DataLoader(val_ds,   batch_size=BATCH_SIZE, shuffle=False,     num_workers=0)\n",
    "\n",
    "# Initialize model, loss, optimizer, scheduler\n",
    "model = PoseLSTM().to(DEVICE)\n",
    "criterion = nn.CrossEntropyLoss()\n",
    "optimizer = optim.Adam(model.parameters(), lr=LR, weight_decay=WEIGHT_DECAY)\n",
    "scheduler = optim.lr_scheduler.ReduceLROnPlateau(optimizer, mode='min', factor=0.5, patience=5, verbose=True)\n",
    "\n",
    "# Training with early stopping\n",
    "history = {'train_loss':[], 'train_acc':[], 'val_loss':[], 'val_acc':[]}\n",
    "best_val_loss = float('inf')\n",
    "patience_counter = 0"
   ]
  },
  {
   "cell_type": "code",
   "execution_count": 6,
   "id": "6a674687",
   "metadata": {},
   "outputs": [
    {
     "name": "stderr",
     "output_type": "stream",
     "text": [
      "Epoch 1/50 [Train]: 100%|██████████| 711/711 [00:11<00:00, 62.58it/s]\n",
      "Epoch 1/50 [Val]: 100%|██████████| 267/267 [00:02<00:00, 132.96it/s]\n"
     ]
    },
    {
     "name": "stdout",
     "output_type": "stream",
     "text": [
      "Epoch 1: train loss 3.6726, acc 0.0947 | val loss 3.5182, acc 0.1420\n"
     ]
    },
    {
     "name": "stderr",
     "output_type": "stream",
     "text": [
      "Epoch 2/50 [Train]: 100%|██████████| 711/711 [00:10<00:00, 70.15it/s]\n",
      "Epoch 2/50 [Val]: 100%|██████████| 267/267 [00:01<00:00, 140.42it/s]\n"
     ]
    },
    {
     "name": "stdout",
     "output_type": "stream",
     "text": [
      "Epoch 2: train loss 3.3321, acc 0.1592 | val loss 3.4928, acc 0.1150\n"
     ]
    },
    {
     "name": "stderr",
     "output_type": "stream",
     "text": [
      "Epoch 3/50 [Train]: 100%|██████████| 711/711 [00:10<00:00, 70.92it/s]\n",
      "Epoch 3/50 [Val]: 100%|██████████| 267/267 [00:01<00:00, 140.63it/s]\n"
     ]
    },
    {
     "name": "stdout",
     "output_type": "stream",
     "text": [
      "Epoch 3: train loss 3.1608, acc 0.1964 | val loss 3.2182, acc 0.2296\n"
     ]
    },
    {
     "name": "stderr",
     "output_type": "stream",
     "text": [
      "Epoch 4/50 [Train]: 100%|██████████| 711/711 [00:10<00:00, 70.89it/s]\n",
      "Epoch 4/50 [Val]: 100%|██████████| 267/267 [00:01<00:00, 142.28it/s]\n"
     ]
    },
    {
     "name": "stdout",
     "output_type": "stream",
     "text": [
      "Epoch 4: train loss 3.0154, acc 0.2292 | val loss 3.0265, acc 0.2744\n"
     ]
    },
    {
     "name": "stderr",
     "output_type": "stream",
     "text": [
      "Epoch 5/50 [Train]: 100%|██████████| 711/711 [00:09<00:00, 71.30it/s]\n",
      "Epoch 5/50 [Val]: 100%|██████████| 267/267 [00:01<00:00, 140.68it/s]\n"
     ]
    },
    {
     "name": "stdout",
     "output_type": "stream",
     "text": [
      "Epoch 5: train loss 2.8849, acc 0.2573 | val loss 2.9600, acc 0.2762\n"
     ]
    },
    {
     "name": "stderr",
     "output_type": "stream",
     "text": [
      "Epoch 6/50 [Train]: 100%|██████████| 711/711 [00:10<00:00, 71.06it/s]\n",
      "Epoch 6/50 [Val]: 100%|██████████| 267/267 [00:01<00:00, 140.12it/s]\n"
     ]
    },
    {
     "name": "stdout",
     "output_type": "stream",
     "text": [
      "Epoch 6: train loss 2.7499, acc 0.2858 | val loss 2.9560, acc 0.2744\n"
     ]
    },
    {
     "name": "stderr",
     "output_type": "stream",
     "text": [
      "Epoch 7/50 [Train]: 100%|██████████| 711/711 [00:09<00:00, 71.36it/s]\n",
      "Epoch 7/50 [Val]: 100%|██████████| 267/267 [00:01<00:00, 137.66it/s]\n"
     ]
    },
    {
     "name": "stdout",
     "output_type": "stream",
     "text": [
      "Epoch 7: train loss 2.7263, acc 0.2909 | val loss 2.9959, acc 0.2678\n"
     ]
    },
    {
     "name": "stderr",
     "output_type": "stream",
     "text": [
      "Epoch 8/50 [Train]: 100%|██████████| 711/711 [00:10<00:00, 70.77it/s]\n",
      "Epoch 8/50 [Val]: 100%|██████████| 267/267 [00:01<00:00, 139.49it/s]\n"
     ]
    },
    {
     "name": "stdout",
     "output_type": "stream",
     "text": [
      "Epoch 8: train loss 2.6578, acc 0.3050 | val loss 2.9600, acc 0.2739\n"
     ]
    },
    {
     "name": "stderr",
     "output_type": "stream",
     "text": [
      "Epoch 9/50 [Train]: 100%|██████████| 711/711 [00:10<00:00, 71.00it/s]\n",
      "Epoch 9/50 [Val]: 100%|██████████| 267/267 [00:01<00:00, 137.60it/s]\n"
     ]
    },
    {
     "name": "stdout",
     "output_type": "stream",
     "text": [
      "Epoch 9: train loss 2.5332, acc 0.3295 | val loss 2.8416, acc 0.2975\n"
     ]
    },
    {
     "name": "stderr",
     "output_type": "stream",
     "text": [
      "Epoch 10/50 [Train]: 100%|██████████| 711/711 [00:10<00:00, 71.09it/s]\n",
      "Epoch 10/50 [Val]: 100%|██████████| 267/267 [00:01<00:00, 139.43it/s]\n"
     ]
    },
    {
     "name": "stdout",
     "output_type": "stream",
     "text": [
      "Epoch 10: train loss 2.4620, acc 0.3433 | val loss 2.8480, acc 0.2979\n"
     ]
    },
    {
     "name": "stderr",
     "output_type": "stream",
     "text": [
      "Epoch 11/50 [Train]: 100%|██████████| 711/711 [00:09<00:00, 71.11it/s]\n",
      "Epoch 11/50 [Val]: 100%|██████████| 267/267 [00:01<00:00, 140.16it/s]\n"
     ]
    },
    {
     "name": "stdout",
     "output_type": "stream",
     "text": [
      "Epoch 11: train loss 2.5151, acc 0.3344 | val loss 2.8534, acc 0.2924\n"
     ]
    },
    {
     "name": "stderr",
     "output_type": "stream",
     "text": [
      "Epoch 12/50 [Train]: 100%|██████████| 711/711 [00:09<00:00, 71.11it/s]\n",
      "Epoch 12/50 [Val]: 100%|██████████| 267/267 [00:01<00:00, 138.47it/s]\n"
     ]
    },
    {
     "name": "stdout",
     "output_type": "stream",
     "text": [
      "Epoch 12: train loss 2.3907, acc 0.3576 | val loss 2.8325, acc 0.2977\n"
     ]
    },
    {
     "name": "stderr",
     "output_type": "stream",
     "text": [
      "Epoch 13/50 [Train]: 100%|██████████| 711/711 [00:09<00:00, 71.34it/s]\n",
      "Epoch 13/50 [Val]: 100%|██████████| 267/267 [00:01<00:00, 139.76it/s]\n"
     ]
    },
    {
     "name": "stdout",
     "output_type": "stream",
     "text": [
      "Epoch 13: train loss 2.3567, acc 0.3641 | val loss 2.7969, acc 0.3051\n"
     ]
    },
    {
     "name": "stderr",
     "output_type": "stream",
     "text": [
      "Epoch 14/50 [Train]: 100%|██████████| 711/711 [00:09<00:00, 71.28it/s]\n",
      "Epoch 14/50 [Val]: 100%|██████████| 267/267 [00:01<00:00, 134.61it/s]\n"
     ]
    },
    {
     "name": "stdout",
     "output_type": "stream",
     "text": [
      "Epoch 14: train loss 2.3098, acc 0.3766 | val loss 2.8377, acc 0.2879\n"
     ]
    },
    {
     "name": "stderr",
     "output_type": "stream",
     "text": [
      "Epoch 15/50 [Train]: 100%|██████████| 711/711 [00:09<00:00, 71.21it/s]\n",
      "Epoch 15/50 [Val]: 100%|██████████| 267/267 [00:01<00:00, 139.94it/s]\n"
     ]
    },
    {
     "name": "stdout",
     "output_type": "stream",
     "text": [
      "Epoch 15: train loss 2.2437, acc 0.3886 | val loss 2.7775, acc 0.3086\n"
     ]
    },
    {
     "name": "stderr",
     "output_type": "stream",
     "text": [
      "Epoch 16/50 [Train]: 100%|██████████| 711/711 [00:09<00:00, 71.30it/s]\n",
      "Epoch 16/50 [Val]: 100%|██████████| 267/267 [00:01<00:00, 138.16it/s]\n"
     ]
    },
    {
     "name": "stdout",
     "output_type": "stream",
     "text": [
      "Epoch 16: train loss 2.2162, acc 0.3954 | val loss 2.8074, acc 0.2944\n"
     ]
    },
    {
     "name": "stderr",
     "output_type": "stream",
     "text": [
      "Epoch 17/50 [Train]: 100%|██████████| 711/711 [00:09<00:00, 71.10it/s]\n",
      "Epoch 17/50 [Val]: 100%|██████████| 267/267 [00:01<00:00, 140.42it/s]\n"
     ]
    },
    {
     "name": "stdout",
     "output_type": "stream",
     "text": [
      "Epoch 17: train loss 2.2034, acc 0.3939 | val loss 2.7799, acc 0.3033\n"
     ]
    },
    {
     "name": "stderr",
     "output_type": "stream",
     "text": [
      "Epoch 18/50 [Train]: 100%|██████████| 711/711 [00:10<00:00, 70.88it/s]\n",
      "Epoch 18/50 [Val]: 100%|██████████| 267/267 [00:01<00:00, 139.29it/s]\n"
     ]
    },
    {
     "name": "stdout",
     "output_type": "stream",
     "text": [
      "Epoch 18: train loss 2.1249, acc 0.4088 | val loss 2.8010, acc 0.3104\n"
     ]
    },
    {
     "name": "stderr",
     "output_type": "stream",
     "text": [
      "Epoch 19/50 [Train]: 100%|██████████| 711/711 [00:10<00:00, 70.99it/s]\n",
      "Epoch 19/50 [Val]: 100%|██████████| 267/267 [00:01<00:00, 141.55it/s]\n"
     ]
    },
    {
     "name": "stdout",
     "output_type": "stream",
     "text": [
      "Epoch 19: train loss 2.1627, acc 0.4057 | val loss 2.8000, acc 0.2975\n"
     ]
    },
    {
     "name": "stderr",
     "output_type": "stream",
     "text": [
      "Epoch 20/50 [Train]: 100%|██████████| 711/711 [00:10<00:00, 70.96it/s]\n",
      "Epoch 20/50 [Val]: 100%|██████████| 267/267 [00:01<00:00, 141.15it/s]\n"
     ]
    },
    {
     "name": "stdout",
     "output_type": "stream",
     "text": [
      "Epoch 20: train loss 2.2895, acc 0.3793 | val loss 2.7778, acc 0.3052\n"
     ]
    },
    {
     "name": "stderr",
     "output_type": "stream",
     "text": [
      "Epoch 21/50 [Train]: 100%|██████████| 711/711 [00:10<00:00, 71.05it/s]\n",
      "Epoch 21/50 [Val]: 100%|██████████| 267/267 [00:01<00:00, 142.26it/s]\n"
     ]
    },
    {
     "name": "stdout",
     "output_type": "stream",
     "text": [
      "Epoch 21: train loss 2.0744, acc 0.4208 | val loss 2.7932, acc 0.3032\n"
     ]
    },
    {
     "name": "stderr",
     "output_type": "stream",
     "text": [
      "Epoch 22/50 [Train]: 100%|██████████| 711/711 [00:10<00:00, 70.62it/s]\n",
      "Epoch 22/50 [Val]: 100%|██████████| 267/267 [00:01<00:00, 135.61it/s]\n"
     ]
    },
    {
     "name": "stdout",
     "output_type": "stream",
     "text": [
      "Epoch 22: train loss 1.9622, acc 0.4476 | val loss 2.7654, acc 0.3090\n"
     ]
    },
    {
     "name": "stderr",
     "output_type": "stream",
     "text": [
      "Epoch 23/50 [Train]: 100%|██████████| 711/711 [00:09<00:00, 71.39it/s]\n",
      "Epoch 23/50 [Val]: 100%|██████████| 267/267 [00:01<00:00, 140.29it/s]\n"
     ]
    },
    {
     "name": "stdout",
     "output_type": "stream",
     "text": [
      "Epoch 23: train loss 1.9090, acc 0.4574 | val loss 2.7626, acc 0.3022\n"
     ]
    },
    {
     "name": "stderr",
     "output_type": "stream",
     "text": [
      "Epoch 24/50 [Train]: 100%|██████████| 711/711 [00:10<00:00, 71.07it/s]\n",
      "Epoch 24/50 [Val]: 100%|██████████| 267/267 [00:02<00:00, 130.20it/s]\n"
     ]
    },
    {
     "name": "stdout",
     "output_type": "stream",
     "text": [
      "Epoch 24: train loss 1.8685, acc 0.4665 | val loss 2.7782, acc 0.3060\n"
     ]
    },
    {
     "name": "stderr",
     "output_type": "stream",
     "text": [
      "Epoch 25/50 [Train]: 100%|██████████| 711/711 [00:10<00:00, 68.54it/s]\n",
      "Epoch 25/50 [Val]: 100%|██████████| 267/267 [00:01<00:00, 134.62it/s]\n"
     ]
    },
    {
     "name": "stdout",
     "output_type": "stream",
     "text": [
      "Epoch 25: train loss 1.8647, acc 0.4660 | val loss 2.7576, acc 0.3118\n"
     ]
    },
    {
     "name": "stderr",
     "output_type": "stream",
     "text": [
      "Epoch 26/50 [Train]: 100%|██████████| 711/711 [00:10<00:00, 70.68it/s]\n",
      "Epoch 26/50 [Val]: 100%|██████████| 267/267 [00:01<00:00, 139.20it/s]\n"
     ]
    },
    {
     "name": "stdout",
     "output_type": "stream",
     "text": [
      "Epoch 26: train loss 1.8445, acc 0.4687 | val loss 2.7687, acc 0.3099\n"
     ]
    },
    {
     "name": "stderr",
     "output_type": "stream",
     "text": [
      "Epoch 27/50 [Train]: 100%|██████████| 711/711 [00:09<00:00, 71.40it/s]\n",
      "Epoch 27/50 [Val]: 100%|██████████| 267/267 [00:01<00:00, 137.87it/s]\n"
     ]
    },
    {
     "name": "stdout",
     "output_type": "stream",
     "text": [
      "Epoch 27: train loss 1.8228, acc 0.4731 | val loss 2.7652, acc 0.3136\n"
     ]
    },
    {
     "name": "stderr",
     "output_type": "stream",
     "text": [
      "Epoch 28/50 [Train]: 100%|██████████| 711/711 [00:09<00:00, 71.24it/s]\n",
      "Epoch 28/50 [Val]: 100%|██████████| 267/267 [00:01<00:00, 138.92it/s]\n"
     ]
    },
    {
     "name": "stdout",
     "output_type": "stream",
     "text": [
      "Epoch 28: train loss 1.8069, acc 0.4790 | val loss 2.7574, acc 0.3136\n"
     ]
    },
    {
     "name": "stderr",
     "output_type": "stream",
     "text": [
      "Epoch 29/50 [Train]: 100%|██████████| 711/711 [00:09<00:00, 71.28it/s]\n",
      "Epoch 29/50 [Val]: 100%|██████████| 267/267 [00:01<00:00, 138.60it/s]\n"
     ]
    },
    {
     "name": "stdout",
     "output_type": "stream",
     "text": [
      "Epoch 29: train loss 1.7854, acc 0.4829 | val loss 2.8064, acc 0.3010\n"
     ]
    },
    {
     "name": "stderr",
     "output_type": "stream",
     "text": [
      "Epoch 30/50 [Train]: 100%|██████████| 711/711 [00:09<00:00, 71.12it/s]\n",
      "Epoch 30/50 [Val]: 100%|██████████| 267/267 [00:01<00:00, 140.06it/s]\n"
     ]
    },
    {
     "name": "stdout",
     "output_type": "stream",
     "text": [
      "Epoch 30: train loss 1.7680, acc 0.4873 | val loss 2.7617, acc 0.3124\n"
     ]
    },
    {
     "name": "stderr",
     "output_type": "stream",
     "text": [
      "Epoch 31/50 [Train]: 100%|██████████| 711/711 [00:09<00:00, 71.25it/s]\n",
      "Epoch 31/50 [Val]: 100%|██████████| 267/267 [00:01<00:00, 139.58it/s]\n"
     ]
    },
    {
     "name": "stdout",
     "output_type": "stream",
     "text": [
      "Epoch 31: train loss 1.7401, acc 0.4919 | val loss 2.7513, acc 0.3169\n"
     ]
    },
    {
     "name": "stderr",
     "output_type": "stream",
     "text": [
      "Epoch 32/50 [Train]: 100%|██████████| 711/711 [00:09<00:00, 71.30it/s]\n",
      "Epoch 32/50 [Val]: 100%|██████████| 267/267 [00:01<00:00, 142.35it/s]\n"
     ]
    },
    {
     "name": "stdout",
     "output_type": "stream",
     "text": [
      "Epoch 32: train loss 1.7568, acc 0.4906 | val loss 2.7668, acc 0.3116\n"
     ]
    },
    {
     "name": "stderr",
     "output_type": "stream",
     "text": [
      "Epoch 33/50 [Train]: 100%|██████████| 711/711 [00:09<00:00, 71.49it/s]\n",
      "Epoch 33/50 [Val]: 100%|██████████| 267/267 [00:01<00:00, 146.34it/s]\n"
     ]
    },
    {
     "name": "stdout",
     "output_type": "stream",
     "text": [
      "Epoch 33: train loss 1.7342, acc 0.4955 | val loss 2.7758, acc 0.3044\n"
     ]
    },
    {
     "name": "stderr",
     "output_type": "stream",
     "text": [
      "Epoch 34/50 [Train]: 100%|██████████| 711/711 [00:09<00:00, 71.68it/s]\n",
      "Epoch 34/50 [Val]: 100%|██████████| 267/267 [00:01<00:00, 143.48it/s]\n"
     ]
    },
    {
     "name": "stdout",
     "output_type": "stream",
     "text": [
      "Epoch 34: train loss 1.6980, acc 0.5016 | val loss 2.7255, acc 0.3230\n"
     ]
    },
    {
     "name": "stderr",
     "output_type": "stream",
     "text": [
      "Epoch 35/50 [Train]: 100%|██████████| 711/711 [00:09<00:00, 71.33it/s]\n",
      "Epoch 35/50 [Val]: 100%|██████████| 267/267 [00:01<00:00, 141.57it/s]\n"
     ]
    },
    {
     "name": "stdout",
     "output_type": "stream",
     "text": [
      "Epoch 35: train loss 1.7131, acc 0.4982 | val loss 2.7833, acc 0.3010\n"
     ]
    },
    {
     "name": "stderr",
     "output_type": "stream",
     "text": [
      "Epoch 36/50 [Train]: 100%|██████████| 711/711 [00:09<00:00, 71.64it/s]\n",
      "Epoch 36/50 [Val]: 100%|██████████| 267/267 [00:01<00:00, 143.81it/s]\n"
     ]
    },
    {
     "name": "stdout",
     "output_type": "stream",
     "text": [
      "Epoch 36: train loss 1.6935, acc 0.5056 | val loss 2.7956, acc 0.3023\n"
     ]
    },
    {
     "name": "stderr",
     "output_type": "stream",
     "text": [
      "Epoch 37/50 [Train]: 100%|██████████| 711/711 [00:10<00:00, 70.49it/s]\n",
      "Epoch 37/50 [Val]: 100%|██████████| 267/267 [00:01<00:00, 134.28it/s]\n"
     ]
    },
    {
     "name": "stdout",
     "output_type": "stream",
     "text": [
      "Epoch 37: train loss 1.6840, acc 0.5044 | val loss 2.7851, acc 0.3049\n"
     ]
    },
    {
     "name": "stderr",
     "output_type": "stream",
     "text": [
      "Epoch 38/50 [Train]: 100%|██████████| 711/711 [00:10<00:00, 70.81it/s]\n",
      "Epoch 38/50 [Val]: 100%|██████████| 267/267 [00:01<00:00, 140.38it/s]\n"
     ]
    },
    {
     "name": "stdout",
     "output_type": "stream",
     "text": [
      "Epoch 38: train loss 1.6468, acc 0.5138 | val loss 2.8035, acc 0.3070\n"
     ]
    },
    {
     "name": "stderr",
     "output_type": "stream",
     "text": [
      "Epoch 39/50 [Train]: 100%|██████████| 711/711 [00:09<00:00, 71.13it/s]\n",
      "Epoch 39/50 [Val]: 100%|██████████| 267/267 [00:01<00:00, 139.42it/s]\n"
     ]
    },
    {
     "name": "stdout",
     "output_type": "stream",
     "text": [
      "Epoch 39: train loss 1.6527, acc 0.5109 | val loss 2.8209, acc 0.3144\n"
     ]
    },
    {
     "name": "stderr",
     "output_type": "stream",
     "text": [
      "Epoch 40/50 [Train]: 100%|██████████| 711/711 [00:10<00:00, 69.80it/s]\n",
      "Epoch 40/50 [Val]: 100%|██████████| 267/267 [00:02<00:00, 127.40it/s]\n"
     ]
    },
    {
     "name": "stdout",
     "output_type": "stream",
     "text": [
      "Epoch 40: train loss 1.6488, acc 0.5123 | val loss 2.8179, acc 0.3078\n"
     ]
    },
    {
     "name": "stderr",
     "output_type": "stream",
     "text": [
      "Epoch 41/50 [Train]: 100%|██████████| 711/711 [00:10<00:00, 70.82it/s]\n",
      "Epoch 41/50 [Val]: 100%|██████████| 267/267 [00:01<00:00, 140.39it/s]\n"
     ]
    },
    {
     "name": "stdout",
     "output_type": "stream",
     "text": [
      "Epoch 41: train loss 1.5575, acc 0.5326 | val loss 2.8080, acc 0.3074\n"
     ]
    },
    {
     "name": "stderr",
     "output_type": "stream",
     "text": [
      "Epoch 42/50 [Train]: 100%|██████████| 711/711 [00:10<00:00, 71.08it/s]\n",
      "Epoch 42/50 [Val]: 100%|██████████| 267/267 [00:01<00:00, 138.76it/s]\n"
     ]
    },
    {
     "name": "stdout",
     "output_type": "stream",
     "text": [
      "Epoch 42: train loss 1.5410, acc 0.5366 | val loss 2.7864, acc 0.3163\n"
     ]
    },
    {
     "name": "stderr",
     "output_type": "stream",
     "text": [
      "Epoch 43/50 [Train]: 100%|██████████| 711/711 [00:10<00:00, 70.54it/s]\n",
      "Epoch 43/50 [Val]: 100%|██████████| 267/267 [00:01<00:00, 140.41it/s]\n"
     ]
    },
    {
     "name": "stdout",
     "output_type": "stream",
     "text": [
      "Epoch 43: train loss 1.5124, acc 0.5420 | val loss 2.7944, acc 0.3136\n"
     ]
    },
    {
     "name": "stderr",
     "output_type": "stream",
     "text": [
      "Epoch 44/50 [Train]: 100%|██████████| 711/711 [00:10<00:00, 70.42it/s]\n",
      "Epoch 44/50 [Val]: 100%|██████████| 267/267 [00:01<00:00, 140.59it/s]"
     ]
    },
    {
     "name": "stdout",
     "output_type": "stream",
     "text": [
      "Early stopping at epoch 44\n"
     ]
    },
    {
     "name": "stderr",
     "output_type": "stream",
     "text": [
      "\n"
     ]
    }
   ],
   "source": [
    "for epoch in range(1, EPOCHS+1):\n",
    "    # Train\n",
    "    model.train()\n",
    "    tloss, tacc, tsamples = 0, 0, 0\n",
    "    for x, y in tqdm(dl_train, desc=f\"Epoch {epoch}/{EPOCHS} [Train]\"):\n",
    "        x, y = x.to(DEVICE), y.to(DEVICE).long()\n",
    "        optimizer.zero_grad()\n",
    "        out = model(x)\n",
    "        loss = criterion(out, y)\n",
    "        loss.backward()\n",
    "        optimizer.step()\n",
    "        preds = out.argmax(dim=1)\n",
    "        tloss += loss.item() * x.size(0)\n",
    "        tacc  += (preds==y).sum().item()\n",
    "        tsamples += x.size(0)\n",
    "    train_loss = tloss/tsamples\n",
    "    train_acc  = tacc/tsamples\n",
    "\n",
    "    # Validate\n",
    "    model.eval()\n",
    "    vloss, vacc, vsamples = 0, 0, 0\n",
    "    with torch.no_grad():\n",
    "        for x, y in tqdm(dl_val, desc=f\"Epoch {epoch}/{EPOCHS} [Val]\"):\n",
    "            x, y = x.to(DEVICE), y.to(DEVICE).long()\n",
    "            out = model(x)\n",
    "            loss = criterion(out, y)\n",
    "            preds = out.argmax(dim=1)\n",
    "            vloss += loss.item() * x.size(0)\n",
    "            vacc  += (preds==y).sum().item()\n",
    "            vsamples += x.size(0)\n",
    "    val_loss = vloss/vsamples\n",
    "    val_acc  = vacc/vsamples\n",
    "\n",
    "    # Scheduler step\n",
    "    scheduler.step(val_loss)\n",
    "\n",
    "    # Early stopping check\n",
    "    if val_loss < best_val_loss:\n",
    "        best_val_loss = val_loss\n",
    "        patience_counter = 0\n",
    "        torch.save(model.state_dict(), 'checkpoints/best_pose_lstm.pth')\n",
    "    else:\n",
    "        patience_counter += 1\n",
    "        if patience_counter >= EARLY_STOP:\n",
    "            print(f\"Early stopping at epoch {epoch}\")\n",
    "            break\n",
    "\n",
    "    history['train_loss'].append(train_loss)\n",
    "    history['train_acc'].append(train_acc)\n",
    "    history['val_loss'].append(val_loss)\n",
    "    history['val_acc'].append(val_acc)\n",
    "\n",
    "    print(f\"Epoch {epoch}: train loss {train_loss:.4f}, acc {train_acc:.4f} | val loss {val_loss:.4f}, acc {val_acc:.4f}\")"
   ]
  },
  {
   "cell_type": "code",
   "execution_count": 7,
   "id": "02c3ac9a",
   "metadata": {},
   "outputs": [
    {
     "data": {
      "image/png": "[encoded data removed]",
      "text/plain": [
       "<Figure size 640x480 with 1 Axes>"
      ]
     },
     "metadata": {},
     "output_type": "display_data"
    },
    {
     "data": {
      "image/png": "[encoded data removed]",
      "text/plain": [
       "<Figure size 640x480 with 1 Axes>"
      ]
     },
     "metadata": {},
     "output_type": "display_data"
    }
   ],
   "source": [
    "# Plot training history\n",
    "epochs = range(1, len(history['train_loss'])+1)\n",
    "plt.figure()\n",
    "plt.plot(epochs, history['train_loss'], label='Train Loss')\n",
    "plt.plot(epochs, history['val_loss'],   label='Val Loss')\n",
    "plt.xlabel('Epoch'); plt.ylabel('Loss'); plt.title('Loss over Epochs'); plt.legend(); plt.show()\n",
    "\n",
    "plt.figure()\n",
    "plt.plot(epochs, history['train_acc'], label='Train Accuracy')\n",
    "plt.plot(epochs, history['val_acc'],   label='Val Accuracy')\n",
    "plt.xlabel('Epoch'); plt.ylabel('Accuracy'); plt.title('Accuracy over Epochs'); plt.legend(); plt.show()\n"
   ]
  }
 ],
 "metadata": {
  "kernelspec": {
   "display_name": "Python 3",
   "language": "python",
   "name": "python3"
  },
  "language_info": {
   "codemirror_mode": {
    "name": "ipython",
    "version": 3
   },
   "file_extension": ".py",
   "mimetype": "text/x-python",
   "name": "python",
   "nbconvert_exporter": "python",
   "pygments_lexer": "ipython3",
   "version": "3.11.3"
  }
 },
 "nbformat": 4,
 "nbformat_minor": 5
}
